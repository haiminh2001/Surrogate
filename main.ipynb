{
 "cells": [
  {
   "cell_type": "code",
   "execution_count": 9,
   "metadata": {},
   "outputs": [],
   "source": [
    "from MFEA_lib.tasks.Benchmark.IDPC_EDU import IDPC_EDU_benchmark\n",
    "from MFEA_lib.model import MFEA_base, MFEA_surrogate\n",
    "from MFEA_lib.model.utils import *\n",
    "from MFEA_lib.operators.Crossover import *\n",
    "from MFEA_lib.operators.Mutation import *\n",
    "from MFEA_lib.operators.Selection import *\n"
   ]
  },
  {
   "cell_type": "code",
   "execution_count": 10,
   "metadata": {},
   "outputs": [
    {
     "name": "stdout",
     "output_type": "stream",
     "text": [
      "Reading data...\n"
     ]
    },
    {
     "name": "stderr",
     "output_type": "stream",
     "text": [
      "100%|██████████| 24/24 [00:24<00:00,  1.01s/it]\n"
     ]
    },
    {
     "name": "stdout",
     "output_type": "stream",
     "text": [
      "Checking...\r"
     ]
    },
    {
     "ename": "KeyboardInterrupt",
     "evalue": "",
     "output_type": "error",
     "traceback": [
      "\u001b[1;31m---------------------------------------------------------------------------\u001b[0m",
      "\u001b[1;31mKeyboardInterrupt\u001b[0m                         Traceback (most recent call last)",
      "\u001b[1;32md:\\OneDrive - Hanoi University of Science and Technology\\Documents_from_PC\\MSOLab\\Surrogate\\MFEA_MSO\\main.ipynb Cell 2\u001b[0m in \u001b[0;36m<module>\u001b[1;34m\u001b[0m\n\u001b[0;32m      <a href='vscode-notebook-cell:/d%3A/OneDrive%20-%20Hanoi%20University%20of%20Science%20and%20Technology/Documents_from_PC/MSOLab/Surrogate/MFEA_MSO/main.ipynb#W1sZmlsZQ%3D%3D?line=3'>4</a>\u001b[0m baseModel \u001b[39m=\u001b[39m MFEA_base\u001b[39m.\u001b[39mmodel()\n\u001b[0;32m      <a href='vscode-notebook-cell:/d%3A/OneDrive%20-%20Hanoi%20University%20of%20Science%20and%20Technology/Documents_from_PC/MSOLab/Surrogate/MFEA_MSO/main.ipynb#W1sZmlsZQ%3D%3D?line=4'>5</a>\u001b[0m baseModel\u001b[39m.\u001b[39mcompile(\n\u001b[0;32m      <a href='vscode-notebook-cell:/d%3A/OneDrive%20-%20Hanoi%20University%20of%20Science%20and%20Technology/Documents_from_PC/MSOLab/Surrogate/MFEA_MSO/main.ipynb#W1sZmlsZQ%3D%3D?line=5'>6</a>\u001b[0m     IndClass\u001b[39m=\u001b[39m IndClass,\n\u001b[0;32m      <a href='vscode-notebook-cell:/d%3A/OneDrive%20-%20Hanoi%20University%20of%20Science%20and%20Technology/Documents_from_PC/MSOLab/Surrogate/MFEA_MSO/main.ipynb#W1sZmlsZQ%3D%3D?line=6'>7</a>\u001b[0m     tasks\u001b[39m=\u001b[39m tasks,\n\u001b[1;32m   (...)\u001b[0m\n\u001b[0;32m     <a href='vscode-notebook-cell:/d%3A/OneDrive%20-%20Hanoi%20University%20of%20Science%20and%20Technology/Documents_from_PC/MSOLab/Surrogate/MFEA_MSO/main.ipynb#W1sZmlsZQ%3D%3D?line=10'>11</a>\u001b[0m     selection\u001b[39m=\u001b[39m ElitismSelection()\n\u001b[0;32m     <a href='vscode-notebook-cell:/d%3A/OneDrive%20-%20Hanoi%20University%20of%20Science%20and%20Technology/Documents_from_PC/MSOLab/Surrogate/MFEA_MSO/main.ipynb#W1sZmlsZQ%3D%3D?line=11'>12</a>\u001b[0m )\n\u001b[1;32m---> <a href='vscode-notebook-cell:/d%3A/OneDrive%20-%20Hanoi%20University%20of%20Science%20and%20Technology/Documents_from_PC/MSOLab/Surrogate/MFEA_MSO/main.ipynb#W1sZmlsZQ%3D%3D?line=12'>13</a>\u001b[0m solve \u001b[39m=\u001b[39m baseModel\u001b[39m.\u001b[39;49mfit(\n\u001b[0;32m     <a href='vscode-notebook-cell:/d%3A/OneDrive%20-%20Hanoi%20University%20of%20Science%20and%20Technology/Documents_from_PC/MSOLab/Surrogate/MFEA_MSO/main.ipynb#W1sZmlsZQ%3D%3D?line=13'>14</a>\u001b[0m     nb_generations \u001b[39m=\u001b[39;49m \u001b[39m1\u001b[39;49m, rmp \u001b[39m=\u001b[39;49m \u001b[39m0.3\u001b[39;49m, nb_inds_each_task\u001b[39m=\u001b[39;49m \u001b[39m1000\u001b[39;49m, \n\u001b[0;32m     <a href='vscode-notebook-cell:/d%3A/OneDrive%20-%20Hanoi%20University%20of%20Science%20and%20Technology/Documents_from_PC/MSOLab/Surrogate/MFEA_MSO/main.ipynb#W1sZmlsZQ%3D%3D?line=14'>15</a>\u001b[0m     bound_pop\u001b[39m=\u001b[39;49m [\u001b[39m0\u001b[39;49m, \u001b[39m1\u001b[39;49m], evaluate_initial_skillFactor\u001b[39m=\u001b[39;49m \u001b[39mTrue\u001b[39;49;00m\n\u001b[0;32m     <a href='vscode-notebook-cell:/d%3A/OneDrive%20-%20Hanoi%20University%20of%20Science%20and%20Technology/Documents_from_PC/MSOLab/Surrogate/MFEA_MSO/main.ipynb#W1sZmlsZQ%3D%3D?line=15'>16</a>\u001b[0m )\n",
      "File \u001b[1;32md:\\OneDrive - Hanoi University of Science and Technology\\Documents_from_PC\\MSOLab\\Surrogate\\MFEA_MSO\\MFEA_lib\\model\\MFEA_base.py:20\u001b[0m, in \u001b[0;36mmodel.fit\u001b[1;34m(self, nb_generations, rmp, nb_inds_each_task, evaluate_initial_skillFactor, *args, **kwargs)\u001b[0m\n\u001b[0;32m     17\u001b[0m \u001b[39msuper\u001b[39m()\u001b[39m.\u001b[39mfit(\u001b[39m*\u001b[39margs, \u001b[39m*\u001b[39m\u001b[39m*\u001b[39mkwargs)\n\u001b[0;32m     19\u001b[0m \u001b[39m# initialize population\u001b[39;00m\n\u001b[1;32m---> 20\u001b[0m population \u001b[39m=\u001b[39m Population(\n\u001b[0;32m     21\u001b[0m     \u001b[39mself\u001b[39;49m\u001b[39m.\u001b[39;49mIndClass,\n\u001b[0;32m     22\u001b[0m     nb_inds_tasks \u001b[39m=\u001b[39;49m [nb_inds_each_task] \u001b[39m*\u001b[39;49m \u001b[39mlen\u001b[39;49m(\u001b[39mself\u001b[39;49m\u001b[39m.\u001b[39;49mtasks), \n\u001b[0;32m     23\u001b[0m     dim \u001b[39m=\u001b[39;49m \u001b[39mself\u001b[39;49m\u001b[39m.\u001b[39;49mdim_uss,\n\u001b[0;32m     24\u001b[0m     list_tasks\u001b[39m=\u001b[39;49m \u001b[39mself\u001b[39;49m\u001b[39m.\u001b[39;49mtasks,\n\u001b[0;32m     25\u001b[0m     evaluate_initial_skillFactor \u001b[39m=\u001b[39;49m evaluate_initial_skillFactor\n\u001b[0;32m     26\u001b[0m )\n\u001b[0;32m     28\u001b[0m \u001b[39m# save history\u001b[39;00m\n\u001b[0;32m     29\u001b[0m \u001b[39mself\u001b[39m\u001b[39m.\u001b[39mhistory_cost\u001b[39m.\u001b[39mappend([ind\u001b[39m.\u001b[39mfcost \u001b[39mfor\u001b[39;00m ind \u001b[39min\u001b[39;00m population\u001b[39m.\u001b[39mget_solves()])\n",
      "File \u001b[1;32md:\\OneDrive - Hanoi University of Science and Technology\\Documents_from_PC\\MSOLab\\Surrogate\\MFEA_MSO\\MFEA_lib\\EA.py:213\u001b[0m, in \u001b[0;36mPopulation.__init__\u001b[1;34m(self, IndClass, dim, nb_inds_tasks, list_tasks, evaluate_initial_skillFactor)\u001b[0m\n\u001b[0;32m    208\u001b[0m ls_inds \u001b[39m=\u001b[39m [\n\u001b[0;32m    209\u001b[0m     IndClass(\u001b[39mNone\u001b[39;00m, \u001b[39mself\u001b[39m\u001b[39m.\u001b[39mdim_uss)\n\u001b[0;32m    210\u001b[0m     \u001b[39mfor\u001b[39;00m i \u001b[39min\u001b[39;00m \u001b[39mrange\u001b[39m(np\u001b[39m.\u001b[39msum(nb_inds_tasks))\n\u001b[0;32m    211\u001b[0m ]\n\u001b[0;32m    212\u001b[0m \u001b[39m# matrix factorial cost and matrix rank\u001b[39;00m\n\u001b[1;32m--> 213\u001b[0m matrix_cost \u001b[39m=\u001b[39m np\u001b[39m.\u001b[39marray([[ind\u001b[39m.\u001b[39meval(t) \u001b[39mfor\u001b[39;00m ind \u001b[39min\u001b[39;00m ls_inds] \u001b[39mfor\u001b[39;00m t \u001b[39min\u001b[39;00m list_tasks])\u001b[39m.\u001b[39mT\n\u001b[0;32m    214\u001b[0m matrix_rank_pop \u001b[39m=\u001b[39m np\u001b[39m.\u001b[39margsort(np\u001b[39m.\u001b[39margsort(matrix_cost, axis \u001b[39m=\u001b[39m \u001b[39m0\u001b[39m), axis \u001b[39m=\u001b[39m \u001b[39m0\u001b[39m) \n\u001b[0;32m    216\u001b[0m count_inds \u001b[39m=\u001b[39m np\u001b[39m.\u001b[39mzeros((\u001b[39mlen\u001b[39m(list_tasks),))\n",
      "File \u001b[1;32md:\\OneDrive - Hanoi University of Science and Technology\\Documents_from_PC\\MSOLab\\Surrogate\\MFEA_MSO\\MFEA_lib\\EA.py:213\u001b[0m, in \u001b[0;36m<listcomp>\u001b[1;34m(.0)\u001b[0m\n\u001b[0;32m    208\u001b[0m ls_inds \u001b[39m=\u001b[39m [\n\u001b[0;32m    209\u001b[0m     IndClass(\u001b[39mNone\u001b[39;00m, \u001b[39mself\u001b[39m\u001b[39m.\u001b[39mdim_uss)\n\u001b[0;32m    210\u001b[0m     \u001b[39mfor\u001b[39;00m i \u001b[39min\u001b[39;00m \u001b[39mrange\u001b[39m(np\u001b[39m.\u001b[39msum(nb_inds_tasks))\n\u001b[0;32m    211\u001b[0m ]\n\u001b[0;32m    212\u001b[0m \u001b[39m# matrix factorial cost and matrix rank\u001b[39;00m\n\u001b[1;32m--> 213\u001b[0m matrix_cost \u001b[39m=\u001b[39m np\u001b[39m.\u001b[39marray([[ind\u001b[39m.\u001b[39meval(t) \u001b[39mfor\u001b[39;00m ind \u001b[39min\u001b[39;00m ls_inds] \u001b[39mfor\u001b[39;00m t \u001b[39min\u001b[39;00m list_tasks])\u001b[39m.\u001b[39mT\n\u001b[0;32m    214\u001b[0m matrix_rank_pop \u001b[39m=\u001b[39m np\u001b[39m.\u001b[39margsort(np\u001b[39m.\u001b[39margsort(matrix_cost, axis \u001b[39m=\u001b[39m \u001b[39m0\u001b[39m), axis \u001b[39m=\u001b[39m \u001b[39m0\u001b[39m) \n\u001b[0;32m    216\u001b[0m count_inds \u001b[39m=\u001b[39m np\u001b[39m.\u001b[39mzeros((\u001b[39mlen\u001b[39m(list_tasks),))\n",
      "File \u001b[1;32md:\\OneDrive - Hanoi University of Science and Technology\\Documents_from_PC\\MSOLab\\Surrogate\\MFEA_MSO\\MFEA_lib\\EA.py:213\u001b[0m, in \u001b[0;36m<listcomp>\u001b[1;34m(.0)\u001b[0m\n\u001b[0;32m    208\u001b[0m ls_inds \u001b[39m=\u001b[39m [\n\u001b[0;32m    209\u001b[0m     IndClass(\u001b[39mNone\u001b[39;00m, \u001b[39mself\u001b[39m\u001b[39m.\u001b[39mdim_uss)\n\u001b[0;32m    210\u001b[0m     \u001b[39mfor\u001b[39;00m i \u001b[39min\u001b[39;00m \u001b[39mrange\u001b[39m(np\u001b[39m.\u001b[39msum(nb_inds_tasks))\n\u001b[0;32m    211\u001b[0m ]\n\u001b[0;32m    212\u001b[0m \u001b[39m# matrix factorial cost and matrix rank\u001b[39;00m\n\u001b[1;32m--> 213\u001b[0m matrix_cost \u001b[39m=\u001b[39m np\u001b[39m.\u001b[39marray([[ind\u001b[39m.\u001b[39;49meval(t) \u001b[39mfor\u001b[39;00m ind \u001b[39min\u001b[39;00m ls_inds] \u001b[39mfor\u001b[39;00m t \u001b[39min\u001b[39;00m list_tasks])\u001b[39m.\u001b[39mT\n\u001b[0;32m    214\u001b[0m matrix_rank_pop \u001b[39m=\u001b[39m np\u001b[39m.\u001b[39margsort(np\u001b[39m.\u001b[39margsort(matrix_cost, axis \u001b[39m=\u001b[39m \u001b[39m0\u001b[39m), axis \u001b[39m=\u001b[39m \u001b[39m0\u001b[39m) \n\u001b[0;32m    216\u001b[0m count_inds \u001b[39m=\u001b[39m np\u001b[39m.\u001b[39mzeros((\u001b[39mlen\u001b[39m(list_tasks),))\n",
      "File \u001b[1;32md:\\OneDrive - Hanoi University of Science and Technology\\Documents_from_PC\\MSOLab\\Surrogate\\MFEA_MSO\\MFEA_lib\\EA.py:23\u001b[0m, in \u001b[0;36mIndividual.eval\u001b[1;34m(self, task)\u001b[0m\n\u001b[0;32m     18\u001b[0m \u001b[39mdef\u001b[39;00m \u001b[39meval\u001b[39m(\u001b[39mself\u001b[39m, task: AbstractTask) \u001b[39m-\u001b[39m\u001b[39m>\u001b[39m \u001b[39mNone\u001b[39;00m:\n\u001b[0;32m     19\u001b[0m     \u001b[39m'''\u001b[39;00m\n\u001b[0;32m     20\u001b[0m \u001b[39m    Evaluate Individual\u001b[39;00m\n\u001b[0;32m     21\u001b[0m \u001b[39m    return factorial_cost after evaluate\u001b[39;00m\n\u001b[0;32m     22\u001b[0m \u001b[39m    '''\u001b[39;00m\n\u001b[1;32m---> 23\u001b[0m     \u001b[39mreturn\u001b[39;00m task(\u001b[39mself\u001b[39;49m\u001b[39m.\u001b[39;49mgenes)\n",
      "File \u001b[1;32md:\\OneDrive - Hanoi University of Science and Technology\\Documents_from_PC\\MSOLab\\Surrogate\\MFEA_MSO\\MFEA_lib\\tasks\\task.py:140\u001b[0m, in \u001b[0;36mIDPC_EDU_FUNC.__call__\u001b[1;34m(self, gene)\u001b[0m\n\u001b[0;32m    138\u001b[0m \u001b[39m# idx = np.arange(self.dim)\u001b[39;00m\n\u001b[0;32m    139\u001b[0m gene \u001b[39m=\u001b[39m np\u001b[39m.\u001b[39mascontiguousarray(gene[:, idx])\n\u001b[1;32m--> 140\u001b[0m cost \u001b[39m=\u001b[39m \u001b[39m__class__\u001b[39;49m\u001b[39m.\u001b[39;49mfunc(gene, \u001b[39mself\u001b[39;49m\u001b[39m.\u001b[39;49msource, \u001b[39mself\u001b[39;49m\u001b[39m.\u001b[39;49mtarget,\n\u001b[0;32m    141\u001b[0m                         \u001b[39mself\u001b[39;49m\u001b[39m.\u001b[39;49mnum_nodes, \u001b[39mself\u001b[39;49m\u001b[39m.\u001b[39;49mnum_domains, \u001b[39mself\u001b[39;49m\u001b[39m.\u001b[39;49medges, \u001b[39mself\u001b[39;49m\u001b[39m.\u001b[39;49mcount_paths)\n\u001b[0;32m    142\u001b[0m \u001b[39mreturn\u001b[39;00m cost\n",
      "File \u001b[1;32md:\\OneDrive - Hanoi University of Science and Technology\\Documents_from_PC\\MSOLab\\Surrogate\\MFEA_MSO\\MFEA_lib\\tasks\\task.py:121\u001b[0m, in \u001b[0;36mIDPC_EDU_FUNC.func\u001b[1;34m(gene, source, target, num_nodes, num_domains, edges, count_paths)\u001b[0m\n\u001b[0;32m    118\u001b[0m     \u001b[39mcontinue\u001b[39;00m\n\u001b[0;32m    120\u001b[0m k \u001b[39m=\u001b[39m gene[\u001b[39m1\u001b[39m][curr] \u001b[39m%\u001b[39m count_paths[curr][t] \n\u001b[1;32m--> 121\u001b[0m key \u001b[39m=\u001b[39m \u001b[39m'\u001b[39m\u001b[39m_\u001b[39m\u001b[39m'\u001b[39m\u001b[39m.\u001b[39mjoin([\u001b[39mstr\u001b[39m(curr), \u001b[39mstr\u001b[39m(t), \u001b[39mstr\u001b[39m(k)])\n\u001b[0;32m    122\u001b[0m d \u001b[39m=\u001b[39m edges[key][\u001b[39m1\u001b[39m]\n\u001b[0;32m    123\u001b[0m \u001b[39mif\u001b[39;00m left_domains[d]:\n",
      "\u001b[1;31mKeyboardInterrupt\u001b[0m: "
     ]
    }
   ],
   "source": [
    "tasks, IndClass = IDPC_EDU_benchmark.get_tasks(1)\n",
    "\n",
    "\n",
    "baseModel = MFEA_base.model()\n",
    "baseModel.compile(\n",
    "    IndClass= IndClass,\n",
    "    tasks= tasks,\n",
    "    # crossover= newSBX(nc = 2, gamma= 0.4, alpha= 6),\n",
    "    crossover= IDPCEDU_Crossover(),\n",
    "    mutation= IDPCEDU_Mutation(),\n",
    "    selection= ElitismSelection()\n",
    ")\n",
    "solve = baseModel.fit(\n",
    "    nb_generations = 1, rmp = 0.3, nb_inds_each_task= 1000, \n",
    "    bound_pop= [0, 1], evaluate_initial_skillFactor= True\n",
    ")"
   ]
  },
  {
   "cell_type": "markdown",
   "metadata": {},
   "source": [
    "# Create dataset"
   ]
  },
  {
   "cell_type": "code",
   "execution_count": 8,
   "metadata": {},
   "outputs": [
    {
     "ename": "IndexError",
     "evalue": "list index out of range",
     "output_type": "error",
     "traceback": [
      "\u001b[1;31m---------------------------------------------------------------------------\u001b[0m",
      "\u001b[1;31mIndexError\u001b[0m                                Traceback (most recent call last)",
      "\u001b[1;32md:\\OneDrive - Hanoi University of Science and Technology\\Documents_from_PC\\MSOLab\\Surrogate\\MFEA_MSO\\main.ipynb Cell 4\u001b[0m in \u001b[0;36m<module>\u001b[1;34m\u001b[0m\n\u001b[1;32m----> <a href='vscode-notebook-cell:/d%3A/OneDrive%20-%20Hanoi%20University%20of%20Science%20and%20Technology/Documents_from_PC/MSOLab/Surrogate/MFEA_MSO/main.ipynb#W3sZmlsZQ%3D%3D?line=0'>1</a>\u001b[0m ls_inds \u001b[39m=\u001b[39m baseModel\u001b[39m.\u001b[39;49mpopulations[\u001b[39m0\u001b[39;49m]\u001b[39m.\u001b[39mls_subPop[\u001b[39m0\u001b[39m]\u001b[39m.\u001b[39mls_inds\n",
      "\u001b[1;31mIndexError\u001b[0m: list index out of range"
     ]
    }
   ],
   "source": [
    "ls_inds = baseModel.populations[0].ls_subPop[0].ls_inds"
   ]
  },
  {
   "cell_type": "code",
   "execution_count": null,
   "metadata": {},
   "outputs": [],
   "source": [
    "tasks[0].__dict__.keys()"
   ]
  },
  {
   "cell_type": "code",
   "execution_count": null,
   "metadata": {},
   "outputs": [],
   "source": [
    "task = tasks[0]\n",
    "source = task.source\n",
    "target = task.target\n",
    "count_paths = task.count_paths\n",
    "edges = task.edges\n",
    "num_nodes = task.num_nodes\n",
    "num_edges = task.num_edges"
   ]
  },
  {
   "cell_type": "code",
   "execution_count": null,
   "metadata": {},
   "outputs": [],
   "source": [
    "import torch\n",
    "import torch.nn as nn"
   ]
  },
  {
   "cell_type": "code",
   "execution_count": null,
   "metadata": {},
   "outputs": [],
   "source": [
    "src_trg = [0 for i in range(num_nodes)]\n",
    "edge_index = []\n",
    "edge_attribute = []\n",
    "\n",
    "src_trg[source] = -1\n",
    "src_trg[target] = 1\n",
    "\n",
    "for i in range(count_paths.shape[0]):\n",
    "    for j in range(count_paths.shape[1]):\n",
    "        n = count_paths[i][j]\n",
    "\n",
    "        edge_index.extend( [[i , j] for _ in range(n)] )\n",
    "        edge_attribute.extend( [edges.get(f'{i}_{j}_{k}') for k in range(n)] )\n",
    "        \n",
    "src_trg = torch.tensor(src_trg, dtype = torch.float)\n",
    "edge_index = torch.tensor(edge_index, dtype= torch.long).reshape(2, -1)\n",
    "edge_attribute = torch.tensor(edge_attribute, dtype= torch.long)"
   ]
  },
  {
   "cell_type": "code",
   "execution_count": null,
   "metadata": {},
   "outputs": [],
   "source": [
    "sys.maxsize"
   ]
  },
  {
   "cell_type": "code",
   "execution_count": null,
   "metadata": {},
   "outputs": [],
   "source": [
    "datasets = []\n",
    "labels = []\n",
    "for ind in ls_inds:\n",
    "    datasets.append(ind.genes)\n",
    "    labels.append(ind.fcost)"
   ]
  },
  {
   "cell_type": "markdown",
   "metadata": {},
   "source": [
    "# Model - GCNConv"
   ]
  },
  {
   "cell_type": "code",
   "execution_count": 7,
   "metadata": {},
   "outputs": [],
   "source": [
    "import torch\n",
    "import torch.nn as nn\n",
    "import torch.nn.functional as F \n",
    "import torch_geometric.nn as gnn_nn\n",
    "from torch.utils.data import Dataset , DataLoader"
   ]
  },
  {
   "cell_type": "code",
   "execution_count": null,
   "metadata": {},
   "outputs": [],
   "source": [
    "src_trg = [0 for i in range(num_nodes)]\n",
    "edge_index = []\n",
    "edge_weight = []\n",
    "edge_attribute = []\n",
    "\n",
    "src_trg[source] = -1\n",
    "src_trg[target] = 1\n",
    "\n",
    "for i in range(count_paths.shape[0]):\n",
    "    for j in range(count_paths.shape[1]):\n",
    "        n = count_paths[i][j]\n",
    "        if(n == 0):\n",
    "            continue\n",
    "        edge_index.extend( [[i , j] for _ in range(n)] )\n",
    "        edge_attribute.extend( [edges.get(f'{i}_{j}_{k}') for k in range(n)] )\n",
    "        \n",
    "edge_index = torch.tensor(edge_index, dtype= torch.long).reshape(2, -1)\n",
    "edge_attribute = torch.tensor(edge_attribute, dtype= torch.long)\n",
    "        \n",
    "src_trg = torch.tensor(src_trg, dtype = torch.float)\n",
    "# edge_index = torch.tensor(edge_index, dtype= torch.long).t().contiguous()\n",
    "# edge_weight = torch.tensor(edge_weight, dtype = torch.float)\n",
    "#edge_attribute = torch.tensor(edge_attribute, dtype= torch.long)"
   ]
  },
  {
   "cell_type": "code",
   "execution_count": null,
   "metadata": {},
   "outputs": [],
   "source": [
    "datasets = []\n",
    "labels = []\n",
    "MAX_INT = sys.maxsize\n",
    "for i in range(len(ls_inds)):\n",
    "    x_genes = torch.Tensor(ls_inds[i].genes)\n",
    "    x_src_trg = src_trg.unsqueeze(0)\n",
    "    _x = torch.cat((x_genes, x_src_trg)).permute(1,0)\n",
    "    datasets.append(_x)\n",
    "    labels.append(ls_inds[i].fcost if ls_inds[i].fcost < MAX_INT else 100)\n",
    "    \n",
    "labels = torch.Tensor(labels).unsqueeze(1)\n",
    "#datasets"
   ]
  },
  {
   "cell_type": "code",
   "execution_count": null,
   "metadata": {},
   "outputs": [],
   "source": [
    "class GNN_GCN(nn.Module):\n",
    "    def __init__(self, in_channels, hid_channels, num_nodes):\n",
    "        super(GNN_GCN, self).__init__()\n",
    "        self.gc1 = gnn_nn.GCNConv(in_channels, hid_channels)\n",
    "        self.gc2 = gnn_nn.GCNConv(hid_channels, 1)\n",
    "        self.fc = nn.Linear(num_nodes, 1)\n",
    "\n",
    "    def forward(self, x, edge_index, edge_weight):\n",
    "        x = F.relu(self.gc1(x, edge_index, edge_weight))\n",
    "        x = self.gc2(x, edge_index, edge_weight)\n",
    "        x = x.squeeze(1)\n",
    "        x = self.fc(x)\n",
    "        return x"
   ]
  },
  {
   "cell_type": "code",
   "execution_count": null,
   "metadata": {},
   "outputs": [],
   "source": [
    "labels[2]"
   ]
  },
  {
   "cell_type": "code",
   "execution_count": null,
   "metadata": {},
   "outputs": [],
   "source": [
    "class SurrogatePipeline():\n",
    "    def __init__(self, input_dim, hidden_dim, num_nodes, learning_rate, device= None):\n",
    "        self.device = device if device else 'cpu'\n",
    "        self.model = GNN_GCN(input_dim, hidden_dim, num_nodes).to(self.device)\n",
    "        self.optimizer = torch.optim.Adam(self.model.parameters(), lr=learning_rate)\n",
    "        self.criteria = nn.RMSELoss()\n",
    "        self.learning_rate = learning_rate\n",
    "        \n",
    "    def train(self, datasets, outputs, edge_index, edge_weight, epochs = 5):\n",
    "        for epoch in range(epochs):\n",
    "            losses = []\n",
    "            for i in range(len(datasets)):\n",
    "                x = datasets[i].to(self.device)\n",
    "                edge_index = edge_index.to(self.device)\n",
    "                edge_weight = edge_weight.to(self.device)\n",
    "\n",
    "                output = outputs[i].to(self.device)\n",
    "                pred = self.model(x, edge_index, edge_weight)\n",
    "                loss = self.criteria(pred, output)\n",
    "                losses.append(loss.item())\n",
    "                # if i % 100 == 0:\n",
    "                #     print(f'Loss: {loss}')\n",
    "                \n",
    "                self.optimizer.zero_grad()\n",
    "                loss.backward()\n",
    "                self.optimizer.step()\n",
    "            print(f'Epoch {epoch} - Loss: {np.mean(losses)}')\n",
    "\n",
    "    def predict(self, input):\n",
    "        with torch.no_grad():\n",
    "            input = torch.Tensor(input.flatten()).to(self.device)\n",
    "            return self.model(input)\n",
    "\n",
    "    def save_pipeline(self, path):\n",
    "        pass"
   ]
  },
  {
   "cell_type": "code",
   "execution_count": null,
   "metadata": {},
   "outputs": [],
   "source": [
    "sr_pp = SurrogatePipeline(3, 10, num_nodes=10, learning_rate=4e-4, device='cuda')\n",
    "sr_pp.train(datasets, labels, edge_index, edge_weight, epochs=100)"
   ]
  },
  {
   "cell_type": "code",
   "execution_count": null,
   "metadata": {},
   "outputs": [],
   "source": [
    "gnn_gcn = GNN_GCN(3,10,10)\n",
    "x123 = gnn_gcn(_x, edge_index, edge_weight)"
   ]
  },
  {
   "cell_type": "code",
   "execution_count": null,
   "metadata": {},
   "outputs": [],
   "source": [
    "criteria = nn.MSELoss()\n",
    "criteria(labels[0], labels[44]).item()"
   ]
  },
  {
   "cell_type": "code",
   "execution_count": null,
   "metadata": {},
   "outputs": [],
   "source": []
  }
 ],
 "metadata": {
  "kernelspec": {
   "display_name": "Python 3.9.10 64-bit",
   "language": "python",
   "name": "python3"
  },
  "language_info": {
   "codemirror_mode": {
    "name": "ipython",
    "version": 3
   },
   "file_extension": ".py",
   "mimetype": "text/x-python",
   "name": "python",
   "nbconvert_exporter": "python",
   "pygments_lexer": "ipython3",
   "version": "3.9.10"
  },
  "orig_nbformat": 4,
  "vscode": {
   "interpreter": {
    "hash": "0d591c6e422414675974e227c13f5382000c440fedd3c5006ef2be5d887f0ba7"
   }
  }
 },
 "nbformat": 4,
 "nbformat_minor": 2
}
